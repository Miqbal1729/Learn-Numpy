{
 "cells": [
  {
   "cell_type": "markdown",
   "metadata": {},
   "source": [
    "Importing Numpy"
   ]
  },
  {
   "cell_type": "code",
   "execution_count": null,
   "metadata": {},
   "outputs": [
    {
     "ename": "",
     "evalue": "",
     "output_type": "error",
     "traceback": [
      "\u001b[1;31mUnable to start Kernel 'Python 3.9.5 64-bit' due to connection timeout. \n",
      "View Jupyter <a href='command:jupyter.viewOutput'>log</a> for further details."
     ]
    }
   ],
   "source": [
    "import numpy as np"
   ]
  },
  {
   "cell_type": "markdown",
   "metadata": {},
   "source": [
    "Create int array to float"
   ]
  },
  {
   "cell_type": "code",
   "execution_count": null,
   "metadata": {},
   "outputs": [],
   "source": [
    "x = np.array([1,2,3,3,4,5],dtype=float)\n",
    "print(x)"
   ]
  },
  {
   "cell_type": "markdown",
   "metadata": {},
   "source": [
    "Nested list in MultiDia arrays"
   ]
  },
  {
   "cell_type": "code",
   "execution_count": null,
   "metadata": {},
   "outputs": [],
   "source": [
    "np.array([range(i,i+3)for i in[2,5,4]])"
   ]
  },
  {
   "cell_type": "markdown",
   "metadata": {},
   "source": [
    "Array from scratch"
   ]
  },
  {
   "cell_type": "code",
   "execution_count": null,
   "metadata": {},
   "outputs": [],
   "source": [
    "print(np.zeros(10,dtype=int))\n",
    "print(np.ones((3,4),dtype=int))\n",
    "print(np.full((3,4),3.14))\n",
    "print(np.arange(0,20,2)) #Start_stop_step\n",
    "print(np.linspace(0,1,5)) #start_step_evenly_spaced_value\n",
    "print(np.random.random((3,3))) #random_value_3x3_matrix_between_0&1\n",
    "print(np.random.normal(0,1,(3,3))) #mean_std_matrix_size\n",
    "print(np.random.randint(0,10,(3,3))) #interval_[0,10]_matrix_size\n",
    "print(np.eye(3)) #identity_matrix_of_3x3\n",
    "print(np.empty(3)) #creating_uninitialized_matrix"
   ]
  },
  {
   "cell_type": "markdown",
   "metadata": {},
   "source": [
    "Read about standard Datatype"
   ]
  },
  {
   "cell_type": "code",
   "execution_count": null,
   "metadata": {},
   "outputs": [],
   "source": [
    "data_type=np.zeros(10,dtype='int16')\n",
    "print('arr: ',data_type)\n",
    "print('datatype: ', data_type.dtype)\n",
    "data_type1 = np.zeros(10,dtype=np.int16)\n",
    "print('arr: ',data_type1)\n",
    "print('datatype: ',data_type1.dtype)"
   ]
  },
  {
   "cell_type": "markdown",
   "metadata": {},
   "source": [
    "Basic: array attribute"
   ]
  },
  {
   "cell_type": "code",
   "execution_count": null,
   "metadata": {},
   "outputs": [],
   "source": [
    "np.random.seed(0) #to_generate_same_random_int_everytime_programme_execute\n",
    "arr1 = np.random.randint(10, size=6) #1D_array\n",
    "arr2 = np.random.randint(10, size=(3,4)) #2D_array\n",
    "arr3 = np.random.randint(10,size=(3,4,5)) #3D_array\n",
    "#print('1D array:\\n',arr1,'\\n')\n",
    "#print('2D array:\\n',arr2,'\\n')\n",
    "#print('3D array:\\n',arr3,'\\n')\n",
    "print('3D array diamension: ',arr3.ndim)\n",
    "print('3D array shape: ',arr3.shape)\n",
    "print('3D array size: ',arr3.size)\n",
    "print('3D array datatype: ', arr3.dtype)\n",
    "print('3D array itemsize: ', arr3.itemsize,' bytes')\n",
    "print('3D array nbytes: ',arr3.nbytes, ' bytes')"
   ]
  },
  {
   "cell_type": "markdown",
   "metadata": {},
   "source": [
    "Array indexing"
   ]
  },
  {
   "cell_type": "code",
   "execution_count": null,
   "metadata": {},
   "outputs": [],
   "source": [
    "print(arr1)\n",
    "print(arr1[0])\n",
    "print(arr1[3])\n",
    "print('\\n',arr2)\n",
    "print(arr2[0,0])\n",
    "print(arr2[1,3])\n",
    "print(arr2[2,-1])"
   ]
  },
  {
   "cell_type": "markdown",
   "metadata": {},
   "source": [
    "Modifying array using index"
   ]
  },
  {
   "cell_type": "code",
   "execution_count": null,
   "metadata": {},
   "outputs": [],
   "source": [
    "print(arr2)\n",
    "arr2_copy = arr2.copy() #copying_to_not_change_original_array\n",
    "arr2_copy[0,0] = 15\n",
    "print(arr2_copy)\n",
    "#lets_try_inserting_float_value_to_our_integer_array\n",
    "print(arr1)\n",
    "print('datatype: ',arr1.dtype)\n",
    "print(arr1) #value_trancated!!!_(used_without_copying_now_orirginal_array_changed_as_well)"
   ]
  },
  {
   "cell_type": "markdown",
   "metadata": {},
   "source": [
    "Array Slicing 1D array"
   ]
  },
  {
   "cell_type": "code",
   "execution_count": null,
   "metadata": {},
   "outputs": [],
   "source": [
    "z = np.arange(10)\n",
    "print(z)\n",
    "#___Array[start:stop:step]\n",
    "#___In_python_counting_start_from_zero\n",
    "print(z[:5], 'will not include the given stop position') #first_five_elements_no_value_means_start_from_zero\n",
    "print(z[3:], 'given start position will include') #from_third_position_to_last\n",
    "print(z[2:5], 'given start postion included but exclude stop position')\n",
    "print(z[::2], 'start from zero move two step printed next value then move two step and so on') #only_step_is_given_it_will_print_every_other_element\n",
    "print(z[1::2], 'start from one and step two position...')\n",
    "print(z[::-1]) #fancy_way_to_reverse_element\n",
    "print(z[7::-2]) #reverse_element_from_seven_step_two_positon"
   ]
  },
  {
   "cell_type": "markdown",
   "metadata": {},
   "source": [
    "Slicing MultiDiamensionsal Array"
   ]
  },
  {
   "cell_type": "code",
   "execution_count": null,
   "metadata": {},
   "outputs": [],
   "source": [
    "a=np.arange(12).reshape(3,4)\n",
    "print(a)\n",
    "#row[start:stop:step],colomn[start:stop:step]\n",
    "#print(a[:,:2]) #row_skipped_colomn_stop_postion_given\n",
    "#print(a[:,::-1]) #row_skipped_col_reversed\n",
    "#print(a[::-1]) #row_reversed_colomn_skipped\n",
    "#print(a[::-1,::-1]) #both_rows_and_colomn_reversed\n",
    "#print(a[:2,:3]) #two_rows_three_colomn\n",
    "print(a[::-1,0]) #first_colomn_reversed\n",
    "print(a[0,::-1]) #first_row_reversed"
   ]
  },
  {
   "cell_type": "markdown",
   "metadata": {},
   "source": [
    "Reshaping of arrays"
   ]
  },
  {
   "cell_type": "code",
   "execution_count": null,
   "metadata": {},
   "outputs": [],
   "source": [
    "grid=np.arange(1,10).reshape(3,3)\n",
    "print(grid)\n",
    "print(grid.ndim)\n",
    "rshp= grid[np.newaxis,:] #here_adding_new_axis_in_array_for_rows\n",
    "print(rshp)\n",
    "print(rshp.ndim) #diamension_changed_from_2_to_3\n",
    "col_arr=np.arange(1,4).reshape(3,1)\n",
    "print(col_arr)\n",
    "print(col_arr.ndim)\n",
    "print(col_arr[:,np.newaxis])"
   ]
  },
  {
   "cell_type": "markdown",
   "metadata": {},
   "source": [
    "Concatation of array"
   ]
  },
  {
   "cell_type": "code",
   "execution_count": null,
   "metadata": {},
   "outputs": [],
   "source": [
    "y=np.arange(1,5)\n",
    "y1=np.arange(5,11)\n",
    "print(y,'\\n',y1)\n",
    "print(z)\n",
    "print(np.concatenate([y,y1])) #concate_both_y&y1_arrays\n",
    "print(np.concatenate([y,y1,z]))\n",
    "y2 =np.arange(1,9).reshape(2,4)\n",
    "print(np.concatenate([y2,y2])) #conacate_through_row_axis\n",
    "print(np.concatenate([y2,y2],axis=1)) #conacate_through_colomn_axis\n",
    "print(np.vstack([y,y2])) #vertically_stacking_the Arrays\n",
    "print(y2)\n",
    "y3 = np.arange(5,7).reshape(2,1)\n",
    "print(y3)\n",
    "print(np.hstack([y2,y3])) #horrizontally_stacking_arrays\n",
    "#np.dstack_use_for_third_axis"
   ]
  },
  {
   "cell_type": "markdown",
   "metadata": {},
   "source": [
    "Splitting of array"
   ]
  },
  {
   "cell_type": "code",
   "execution_count": null,
   "metadata": {},
   "outputs": [],
   "source": [
    "s=np.arange(1,13)\n",
    "print(s)\n",
    "s1,s2,s3 = np.split(s,[4,9])\n",
    "#In_s1_first_four_values_will_placed_in_s2_remaining_Five_as_nine_given_to_limit_will_placed_rest_will_be_in_s3\n",
    "print(s1,'\\n',s2,'\\n',s3)\n",
    "s4 = np.arange(1,17).reshape(4,4)\n",
    "print(s4)\n",
    "upper, lower = np.vsplit(s4,[2]) #opposite_of_vstack\n",
    "print(upper,'\\n')\n",
    "print(lower)\n",
    "left, right = np.hsplit(s4, [2]) #opposite_of_hstack\n",
    "print(left)\n",
    "print(right)"
   ]
  },
  {
   "cell_type": "markdown",
   "metadata": {},
   "source": [
    "Numpy Ufunc\n",
    "Array Arthmetic"
   ]
  },
  {
   "cell_type": "code",
   "execution_count": null,
   "metadata": {},
   "outputs": [],
   "source": [
    "p= np.arange(4)\n",
    "print(p)\n",
    "print('p+5:',p+5) \n",
    "print(np.add(p,5)) #ufunc_of_numpy_for_sum\n",
    "print('p*2: ',p*2)\n",
    "print(np.multiply(p,2)) #Ufunc\n",
    "print('p**2: ', p**2)\n",
    "print(np.square(p)) #ufunc\n",
    "print('p//2: ',p//2)\n",
    "print(np.floor_divide(p,2)) #ufunc\n",
    "print('-p: ',-p)\n",
    "print(np.negative(p)) #ufunc\n",
    "print('0.5p-10: ', 0.5*p-10)\n",
    "print((np.multiply(p,0.5))-10)"
   ]
  },
  {
   "cell_type": "markdown",
   "metadata": {},
   "source": [
    "Tignometric Functions & Absolute values"
   ]
  },
  {
   "cell_type": "code",
   "execution_count": null,
   "metadata": {},
   "outputs": [],
   "source": [
    "theta = np.linspace(-1,np.pi,5)\n",
    "print('theta= ',theta)\n",
    "print('abslute= ', np.abs(theta))\n",
    "print('sin(theta)= ', np.sin(theta))\n",
    "print('cos(theta)= ',np.cos(theta))\n",
    "print('tan(theta)= ', np.tan(theta))\n",
    "#For_inverse_tignometric:\n",
    "#np.arcsin\n",
    "#np.arccos\n",
    "#np.arctan"
   ]
  },
  {
   "cell_type": "markdown",
   "metadata": {},
   "source": [
    "Exponents & logarithms"
   ]
  },
  {
   "cell_type": "code",
   "execution_count": null,
   "metadata": {},
   "outputs": [],
   "source": [
    "exp_log_value = np.array([1,2,3,4,10])\n",
    "print('exp_log_value = ', exp_log_value)\n",
    "print('e^x = ', np.exp(exp_log_value)) #here_x_denotes_exp_log_values_array\n",
    "print('2^x = ', np.exp2(exp_log_value))\n",
    "print('3^x = ', np.power(3,exp_log_value))\n",
    "print('lnx = ', np.log(exp_log_value))\n",
    "print('log2x = ', np.log2(exp_log_value))\n",
    "print('log10x = ', np.log10(exp_log_value))\n",
    "print('exp(x)-1 = ', np.expm1(exp_log_value))\n",
    "print('log(x)+1 = ',np.log1p(exp_log_value))\n",
    "#read_about_scipy_submodule_special "
   ]
  },
  {
   "cell_type": "markdown",
   "metadata": {},
   "source": [
    "Advance UFunctions"
   ]
  },
  {
   "cell_type": "code",
   "execution_count": null,
   "metadata": {},
   "outputs": [],
   "source": [
    "adv = np.arange(1,6)\n",
    "adv1 = np.empty(5)\n",
    "np.multiply(adv,5,out=adv1)\n",
    "print(adv1)"
   ]
  },
  {
   "cell_type": "code",
   "execution_count": null,
   "metadata": {},
   "outputs": [],
   "source": [
    "adv2 = np.zeros(10)\n",
    "np.power(2,adv,out=adv2[::2]) #2**adv\n",
    "print(adv2)"
   ]
  },
  {
   "cell_type": "markdown",
   "metadata": {},
   "source": [
    "aggregates, accumulate & outer Product"
   ]
  },
  {
   "cell_type": "code",
   "execution_count": null,
   "metadata": {},
   "outputs": [],
   "source": [
    "print(adv)\n",
    "print(np.sum(adv))\n",
    "print(np.add.reduce(adv))\n",
    "print(np.multiply.reduce(adv))\n",
    "print(np.add.accumulate(adv))\n",
    "print(np.multiply.accumulate(adv))\n",
    "print(np.multiply.outer(adv,adv))"
   ]
  },
  {
   "cell_type": "markdown",
   "metadata": {},
   "source": [
    "K-Nearest Neighbors"
   ]
  },
  {
   "cell_type": "code",
   "execution_count": null,
   "metadata": {},
   "outputs": [
    {
     "name": "stdout",
     "output_type": "stream",
     "text": [
      "[[0.97861834 0.79915856]\n",
      " [0.46147936 0.78052918]\n",
      " [0.11827443 0.63992102]\n",
      " [0.14335329 0.94466892]\n",
      " [0.52184832 0.41466194]\n",
      " [0.26455561 0.77423369]\n",
      " [0.45615033 0.56843395]\n",
      " [0.0187898  0.6176355 ]\n",
      " [0.61209572 0.616934  ]\n",
      " [0.94374808 0.6818203 ]]\n"
     ]
    }
   ],
   "source": [
    "#np.random.seed(0)\n",
    "nrst = np.random.rand(10,2)\n",
    "print(nrst)"
   ]
  },
  {
   "cell_type": "code",
   "execution_count": null,
   "metadata": {},
   "outputs": [
    {
     "data": {
      "text/plain": [
       "<matplotlib.collections.PathCollection at 0x209ae266190>"
      ]
     },
     "execution_count": 81,
     "metadata": {},
     "output_type": "execute_result"
    },
    {
     "data": {
      "image/png": "[encoded data removed]",
      "text/plain": [
       "<Figure size 432x288 with 1 Axes>"
      ]
     },
     "metadata": {
      "needs_background": "light"
     },
     "output_type": "display_data"
    }
   ],
   "source": [
    "%matplotlib inline\n",
    "import matplotlib.pyplot as plt\n",
    "plt.scatter(nrst[:,0],nrst[:,1],s=100)"
   ]
  },
  {
   "cell_type": "code",
   "execution_count": null,
   "metadata": {},
   "outputs": [
    {
     "data": {
      "image/png": "[encoded data removed]",
      "text/plain": [
       "<Figure size 432x288 with 1 Axes>"
      ]
     },
     "metadata": {
      "needs_background": "light"
     },
     "output_type": "display_data"
    }
   ],
   "source": [
    "dist_sq = np.sum((nrst[:,np.newaxis,:]-nrst[np.newaxis,:,:])**2,axis=-1)\n",
    "#print(dist_sq.shape)\n",
    "#print(dist_sq.diagonal())\n",
    "nearest = np.argsort(dist_sq,axis=1)\n",
    "#print(nearest)\n",
    "k = 2\n",
    "nearest_partition = np.argpartition(dist_sq, k+1, axis=1)\n",
    "\n",
    "plt.scatter(nrst[:,0],nrst[:,1], s=100)\n",
    "\n",
    "for ix in range(nrst.shape[0]):\n",
    "    for jx in nearest_partition[ix, :k+1]:\n",
    "        plt.plot(*zip(nrst[jx],nrst[ix]), color = 'black')\n",
    "\n"
   ]
  },
  {
   "cell_type": "code",
   "execution_count": null,
   "metadata": {},
   "outputs": [],
   "source": []
  }
 ],
 "metadata": {
  "interpreter": {
   "hash": "d0ad5ca83bf88aa29219fbbb16ab5793d1fef84f62f28e100b002d5cd93cd52f"
  },
  "kernelspec": {
   "display_name": "Python 3.9.5 64-bit",
   "language": "python",
   "name": "python3"
  },
  "language_info": {
   "codemirror_mode": {
    "name": "ipython",
    "version": 3
   },
   "file_extension": ".py",
   "mimetype": "text/x-python",
   "name": "python",
   "nbconvert_exporter": "python",
   "pygments_lexer": "ipython3",
   "version": "3.9.5"
  },
  "orig_nbformat": 4
 },
 "nbformat": 4,
 "nbformat_minor": 2
}
